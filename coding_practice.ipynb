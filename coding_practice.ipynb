{
  "nbformat": 4,
  "nbformat_minor": 0,
  "metadata": {
    "colab": {
      "provenance": [],
      "authorship_tag": "ABX9TyNMqF0ilFouuWsurca09MPf",
      "include_colab_link": true
    },
    "kernelspec": {
      "name": "python3",
      "display_name": "Python 3"
    },
    "language_info": {
      "name": "python"
    }
  },
  "cells": [
    {
      "cell_type": "markdown",
      "metadata": {
        "id": "view-in-github",
        "colab_type": "text"
      },
      "source": [
        "<a href=\"https://colab.research.google.com/github/uday-kumar-1996/coding-practice/blob/main/coding_practice.ipynb\" target=\"_parent\"><img src=\"https://colab.research.google.com/assets/colab-badge.svg\" alt=\"Open In Colab\"/></a>"
      ]
    },
    {
      "cell_type": "code",
      "execution_count": null,
      "metadata": {
        "id": "X57nv2gVVNCo",
        "colab": {
          "base_uri": "https://localhost:8080/"
        },
        "outputId": "82c2bf1c-87ff-454d-9663-24a909bb10f6"
      },
      "outputs": [
        {
          "output_type": "stream",
          "name": "stdout",
          "text": [
            "[[1 2 3]\n",
            " [4 5 6]]\n"
          ]
        }
      ],
      "source": [
        "import numpy as np\n",
        "arr=np.array([[1,2,3],[4,5,6],[7,8,9]])\n",
        "new_arr=arr[0:2,0:]\n",
        "print(new_arr)\n"
      ]
    },
    {
      "cell_type": "code",
      "source": [
        "a=[1,2,3,4,5]\n",
        "b=[6,7,8,9,10]\n",
        "c=a+b\n",
        "print(c)\n",
        "\n"
      ],
      "metadata": {
        "colab": {
          "base_uri": "https://localhost:8080/"
        },
        "id": "RdQ9pufuVZnM",
        "outputId": "905de7f7-df45-40d6-b415-bb15ac3c4b08"
      },
      "execution_count": null,
      "outputs": [
        {
          "output_type": "stream",
          "name": "stdout",
          "text": [
            "[1, 2, 3, 4, 5, 6, 7, 8, 9, 10]\n"
          ]
        }
      ]
    },
    {
      "cell_type": "code",
      "source": [
        "import numpy as np\n",
        "arr=np.array([[1,2,3],[4,5,6],[7,8,9]])\n",
        "new_arr=arr[0:2,1:]\n",
        "new_arr\n",
        "\n"
      ],
      "metadata": {
        "id": "BCepDuIVVuoo",
        "colab": {
          "base_uri": "https://localhost:8080/"
        },
        "outputId": "d2d6f1d2-5884-4466-c027-6e89369518ca"
      },
      "execution_count": null,
      "outputs": [
        {
          "output_type": "execute_result",
          "data": {
            "text/plain": [
              "array([[2, 3],\n",
              "       [5, 6]])"
            ]
          },
          "metadata": {},
          "execution_count": 6
        }
      ]
    },
    {
      "cell_type": "code",
      "source": [],
      "metadata": {
        "id": "BcXb6tQcb2Qo"
      },
      "execution_count": null,
      "outputs": []
    },
    {
      "cell_type": "code",
      "source": [
        "arr[1:]"
      ],
      "metadata": {
        "colab": {
          "base_uri": "https://localhost:8080/"
        },
        "id": "HopHXXG-b5Mu",
        "outputId": "5cab99f1-7835-4abf-8fff-39cc973961d0"
      },
      "execution_count": null,
      "outputs": [
        {
          "output_type": "execute_result",
          "data": {
            "text/plain": [
              "array([[4, 5, 6],\n",
              "       [7, 8, 9]])"
            ]
          },
          "metadata": {},
          "execution_count": 2
        }
      ]
    },
    {
      "cell_type": "code",
      "source": [
        "arr[:1]"
      ],
      "metadata": {
        "colab": {
          "base_uri": "https://localhost:8080/"
        },
        "id": "UcGKymducKTq",
        "outputId": "f276edf8-0bdf-4c52-d354-1a75d74719fc"
      },
      "execution_count": null,
      "outputs": [
        {
          "output_type": "execute_result",
          "data": {
            "text/plain": [
              "array([[1, 2, 3]])"
            ]
          },
          "metadata": {},
          "execution_count": 3
        }
      ]
    },
    {
      "cell_type": "code",
      "source": [
        "def fab(n):\n",
        "  if n<=1:\n",
        "    return n\n",
        "  else:\n",
        "    return fab(n-1)+fab(n-2)\n",
        "fab(7)"
      ],
      "metadata": {
        "colab": {
          "base_uri": "https://localhost:8080/"
        },
        "id": "-s5u5XLcDbIn",
        "outputId": "6eb4c3f6-b726-4f47-b173-66b145eba942"
      },
      "execution_count": null,
      "outputs": [
        {
          "output_type": "execute_result",
          "data": {
            "text/plain": [
              "13"
            ]
          },
          "metadata": {},
          "execution_count": 5
        }
      ]
    },
    {
      "cell_type": "code",
      "source": [
        "def fab(n):\n",
        "  if n<=1:\n",
        "    return 1\n",
        "  else:\n",
        "    return fab(n-1)+fab(n-2)\n",
        "fab(7)"
      ],
      "metadata": {
        "colab": {
          "base_uri": "https://localhost:8080/"
        },
        "id": "nhA_wcJBD7SL",
        "outputId": "25fbd0bb-66d6-4d6c-ed49-9c922342522f"
      },
      "execution_count": null,
      "outputs": [
        {
          "output_type": "execute_result",
          "data": {
            "text/plain": [
              "21"
            ]
          },
          "metadata": {},
          "execution_count": 3
        }
      ]
    },
    {
      "cell_type": "code",
      "source": [
        "def subsequences(arr,index,ans):\n",
        "  if index==len(arr):\n",
        "    print(ans)\n",
        "    return\n",
        "    subsequences(arr,index+1,ans)\n",
        "    subsequences(arr,index+1,ans+str(arr[index]))\n",
        "\n",
        "subsequences([1,2,3],0,\"\")\n"
      ],
      "metadata": {
        "id": "yYCNb0B_aZdH"
      },
      "execution_count": null,
      "outputs": []
    },
    {
      "cell_type": "code",
      "source": [
        "a=[1,[2,3],[4,[5,6]],7]\n",
        "b=len(a[2][1][0:1:2])\n",
        "print(b)\n"
      ],
      "metadata": {
        "colab": {
          "base_uri": "https://localhost:8080/"
        },
        "id": "n4nO1g9TaqoO",
        "outputId": "894abbba-c9a5-4bbf-f9c9-68f58d8fa99b"
      },
      "execution_count": null,
      "outputs": [
        {
          "output_type": "stream",
          "name": "stdout",
          "text": [
            "1\n"
          ]
        }
      ]
    },
    {
      "cell_type": "code",
      "source": [
        "a=list(map(int,input().split()))\n",
        "print(a)"
      ],
      "metadata": {
        "colab": {
          "base_uri": "https://localhost:8080/"
        },
        "id": "jLv38rXAEBHS",
        "outputId": "182fcef7-9744-4869-e8ea-adcfbfcb4eaa"
      },
      "execution_count": null,
      "outputs": [
        {
          "output_type": "stream",
          "name": "stdout",
          "text": [
            "22 33 44 55 66 77\n",
            "[22, 33, 44, 55, 66, 77]\n"
          ]
        }
      ]
    },
    {
      "cell_type": "code",
      "source": [
        "def sum_natural_numbers(n):\n",
        "    if n == 1:\n",
        "        return 1\n",
        "    else:\n",
        "        return n + sum_natural_numbers(n-1)\n",
        "\n",
        "num = int(input(\"Enter a number: \"))\n",
        "\n",
        "if num <= 0:\n",
        "    print(\"Invalid input. Please enter a positive integer.\")\n",
        "else:\n",
        "    print(\"The sum of natural numbers up to\", num, \"is\", sum_natural_numbers(num))\n",
        ""
      ],
      "metadata": {
        "id": "YClKfDM0GS8A",
        "colab": {
          "base_uri": "https://localhost:8080/"
        },
        "outputId": "71b68529-30be-4609-e190-b2dd882b8330"
      },
      "execution_count": 1,
      "outputs": [
        {
          "output_type": "stream",
          "name": "stdout",
          "text": [
            "Enter a number: 15\n",
            "The sum of natural numbers up to 15 is 120\n"
          ]
        }
      ]
    },
    {
      "cell_type": "code",
      "source": [
        "\n",
        "def tribonacci(n):\n",
        "    if n == 0 or n == 1:\n",
        "        return 0\n",
        "    elif n == 2:\n",
        "        return 1\n",
        "    else:\n",
        "        return tribonacci(n-1) + tribonacci(n-2) + tribonacci(n-3)\n",
        "\n",
        "num = int(input(\"Enter a number: \"))\n",
        "\n",
        "if num < 0:\n",
        "    print(\"Invalid input. Please enter a non-negative integer.\")\n",
        "else:\n",
        "    print(\"The\", num, \"th term in the Tribonacci sequence is\", tribonacci(num))"
      ],
      "metadata": {
        "colab": {
          "base_uri": "https://localhost:8080/"
        },
        "id": "kBnc6gOAtz7L",
        "outputId": "4e39b0e4-431a-4955-bb21-1f93019c5d0b"
      },
      "execution_count": 4,
      "outputs": [
        {
          "output_type": "stream",
          "name": "stdout",
          "text": [
            "Enter a number: 6\n",
            "The 6 th term in the Tribonacci sequence is 7\n"
          ]
        }
      ]
    },
    {
      "cell_type": "code",
      "source": [
        "def permutations(s):\n",
        "    if len(s) == 0:\n",
        "        return []\n",
        "    elif len(s) == 1:\n",
        "        return [s]\n",
        "    else:\n",
        "        result = []\n",
        "        for i in range(len(s)):\n",
        "            remaining = s[:i] + s[i+1:]\n",
        "            perms = permutations(remaining)\n",
        "            for perm in perms:\n",
        "                result.append(s[i] + perm)\n",
        "\n",
        "        return result\n",
        "s = input(\"Enter a string: \")\n",
        "\n",
        "print(\"All possible permutations of\", s, \"are:\")\n",
        "print(permutations(s))"
      ],
      "metadata": {
        "colab": {
          "base_uri": "https://localhost:8080/"
        },
        "id": "J7shkBBKuP8v",
        "outputId": "ac579f9a-a080-4013-84c4-7fd398dfb712"
      },
      "execution_count": 5,
      "outputs": [
        {
          "output_type": "stream",
          "name": "stdout",
          "text": [
            "Enter a string: abc\n",
            "All possible permutations of abc are:\n",
            "['abc', 'acb', 'bac', 'bca', 'cab', 'cba']\n"
          ]
        }
      ]
    }
  ]
}