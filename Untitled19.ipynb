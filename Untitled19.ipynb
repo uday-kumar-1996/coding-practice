{
  "nbformat": 4,
  "nbformat_minor": 0,
  "metadata": {
    "colab": {
      "provenance": [],
      "authorship_tag": "ABX9TyMrTRHD7USYmjEdL7icCO/H",
      "include_colab_link": true
    },
    "kernelspec": {
      "name": "python3",
      "display_name": "Python 3"
    },
    "language_info": {
      "name": "python"
    }
  },
  "cells": [
    {
      "cell_type": "markdown",
      "metadata": {
        "id": "view-in-github",
        "colab_type": "text"
      },
      "source": [
        "<a href=\"https://colab.research.google.com/github/uday-kumar-1996/coding-practice/blob/main/Untitled19.ipynb\" target=\"_parent\"><img src=\"https://colab.research.google.com/assets/colab-badge.svg\" alt=\"Open In Colab\"/></a>"
      ]
    },
    {
      "cell_type": "code",
      "execution_count": null,
      "metadata": {
        "colab": {
          "base_uri": "https://localhost:8080/"
        },
        "id": "mFMutcX359pO",
        "outputId": "d7b902cb-b12d-4fe8-eb24-4991adde21c7"
      },
      "outputs": [
        {
          "output_type": "stream",
          "name": "stdout",
          "text": [
            "4\n",
            "6\n",
            "7\n",
            "8\n",
            "9\n",
            "0\n",
            "Average and Sum of the above numbers are: 6.8 34.0\n"
          ]
        }
      ],
      "source": [
        "count = 0\n",
        "sum = 0.0\n",
        "number = 1\n",
        "\n",
        "while number != 0:\n",
        "        number = int(input(\"\"))\n",
        "        sum = sum + number\n",
        "        count += 1\n",
        "\n",
        "if count == 0:\n",
        "        print(\"Input some numbers\")\n",
        "else:\n",
        "        print(\"Average and Sum of the above numbers are:\", sum / (count-1), sum)"
      ]
    },
    {
      "cell_type": "code",
      "source": [
        "a=int(input())\n",
        "print(a)"
      ],
      "metadata": {
        "colab": {
          "base_uri": "https://localhost:8080/"
        },
        "id": "m_xcA6LuboYU",
        "outputId": "89176620-a8a9-4f33-b36c-deb7fc6ff718"
      },
      "execution_count": null,
      "outputs": [
        {
          "output_type": "stream",
          "name": "stdout",
          "text": [
            "-3\n",
            "-3\n"
          ]
        }
      ]
    },
    {
      "cell_type": "code",
      "source": [
        "my_list = ['cat', 'bear']\n",
        "print(max(my_list))"
      ],
      "metadata": {
        "colab": {
          "base_uri": "https://localhost:8080/"
        },
        "id": "EM-PwNdJkvN7",
        "outputId": "bfcc7e35-026a-4922-ce92-e46af5e7b17b"
      },
      "execution_count": null,
      "outputs": [
        {
          "output_type": "stream",
          "name": "stdout",
          "text": [
            "cat\n"
          ]
        }
      ]
    },
    {
      "cell_type": "code",
      "source": [
        "numbers = [1, 2, 3, 4, 5]\n",
        "sq=[(lambda x: print(x) if x%2==0 else 'odd')(x) for x in numbers]\n",
        "print(sq)"
      ],
      "metadata": {
        "colab": {
          "base_uri": "https://localhost:8080/"
        },
        "id": "Pcj3eRnItOlj",
        "outputId": "05085cb7-8f86-4c43-81c0-7f34421ee1e6"
      },
      "execution_count": null,
      "outputs": [
        {
          "output_type": "stream",
          "name": "stdout",
          "text": [
            "2\n",
            "4\n",
            "['odd', None, 'odd', None, 'odd']\n"
          ]
        }
      ]
    },
    {
      "cell_type": "code",
      "source": [
        "numbers = [1, 2, 3, 4, 5]\n",
        "print([(lambda x: x ** 2)(x) for x in numbers])"
      ],
      "metadata": {
        "colab": {
          "base_uri": "https://localhost:8080/"
        },
        "id": "tFWhMUAuvVkG",
        "outputId": "046919ad-9672-43b4-8b00-370a82258a06"
      },
      "execution_count": null,
      "outputs": [
        {
          "output_type": "stream",
          "name": "stdout",
          "text": [
            "[1, 4, 9, 16, 25]\n"
          ]
        }
      ]
    },
    {
      "cell_type": "code",
      "source": [
        "n = int(input())\n",
        "for i in range(n):\n",
        "  if i:\n",
        "    print(i**2)\n"
      ],
      "metadata": {
        "colab": {
          "base_uri": "https://localhost:8080/"
        },
        "id": "0crs9t-lP5uV",
        "outputId": "bb381058-16a8-4f81-e578-33356d911ec1"
      },
      "execution_count": null,
      "outputs": [
        {
          "output_type": "stream",
          "name": "stdout",
          "text": [
            "3\n",
            "1\n",
            "4\n"
          ]
        }
      ]
    },
    {
      "cell_type": "code",
      "source": [
        "x = int(input())\n",
        "y = int(input())\n",
        "z = int(input())\n",
        "n = int(input())\n",
        "cooridinates=[[i,j,k] for i in range(x) for j in range(y) for k in range(z) if i+j+k!=n]\n",
        "print(cooridinates)"
      ],
      "metadata": {
        "colab": {
          "base_uri": "https://localhost:8080/"
        },
        "id": "LrghPwP2UDa7",
        "outputId": "2f4251af-4719-4f2c-8f71-c2fbfaa7c945"
      },
      "execution_count": null,
      "outputs": [
        {
          "output_type": "stream",
          "name": "stdout",
          "text": [
            "1\n",
            "1\n",
            "1\n",
            "2\n",
            "[[0, 0, 0]]\n"
          ]
        }
      ]
    },
    {
      "cell_type": "code",
      "source": [
        "N = int(input())\n",
        "arr=[]\n",
        "arr.insert(0,5)\n",
        "arr.insert(1,10)\n",
        "arr.insert(0,6)\n",
        "print(arr)"
      ],
      "metadata": {
        "colab": {
          "base_uri": "https://localhost:8080/"
        },
        "id": "85usx_nWkD7R",
        "outputId": "18572986-1d7b-4899-a2bc-47b7567f0b51"
      },
      "execution_count": null,
      "outputs": [
        {
          "output_type": "stream",
          "name": "stdout",
          "text": [
            "5\n",
            "[6, 5, 10]\n"
          ]
        }
      ]
    },
    {
      "cell_type": "code",
      "source": [
        "N = int(input())\n",
        "arr=[]\n",
        "arr.insert(0,5)\n",
        "arr.insert(1,10)\n",
        "arr.insert(0,6)\n",
        "print(arr)\n",
        "arr.remove(6)\n",
        "arr.append(9)\n",
        "arr.append(1)\n",
        "arr.sort()\n",
        "print(arr)\n",
        "arr.pop()\n",
        "arr.reverse()\n",
        "print(arr)"
      ],
      "metadata": {
        "colab": {
          "base_uri": "https://localhost:8080/"
        },
        "id": "Rq8IdkxDkxIu",
        "outputId": "768c6036-60f2-46b3-94dd-6889bff85f99"
      },
      "execution_count": null,
      "outputs": [
        {
          "output_type": "stream",
          "name": "stdout",
          "text": [
            "12\n",
            "[6, 5, 10]\n",
            "[1, 5, 9, 10]\n",
            "[9, 5, 1]\n"
          ]
        }
      ]
    },
    {
      "cell_type": "code",
      "source": [
        "lst=[]\n",
        "n = int(input())\n",
        "\n",
        "for _ in range(n):\n",
        "    operation = input()\n",
        "\n",
        "    if operation.startswith('append'):\n",
        "        _, value = operation.split()\n",
        "        lst.append(int(value))\n",
        "\n",
        "    elif operation.startswith('insert'):\n",
        "        _, index, value = operation.split()\n",
        "        lst.insert(int(index), int(value))\n",
        "\n",
        "    elif operation.startswith('remove'):\n",
        "      _,value = operation.split()\n",
        "      lst.remove(int(value))\n",
        "\n",
        "    elif operation.startswith('pop'):\n",
        "      _ = operation.split()\n",
        "      lst.pop()\n",
        "\n",
        "    elif operation.startswith('print'):\n",
        "      _ = operation.split()\n",
        "      print(lst)\n",
        "\n",
        "    elif operation.startswith('sort'):\n",
        "      _ = operation.split()\n",
        "      lst.sort()\n",
        "\n",
        "    elif operation.startswith('reverse'):\n",
        "      _ = operation.split()\n",
        "      lst.reverse()\n",
        "\n",
        "    elif operation.startswith('print'):\n",
        "      _ = operation.split()\n",
        "      print(lst)\n",
        "\n"
      ],
      "metadata": {
        "id": "A47krYIGm9zo",
        "colab": {
          "base_uri": "https://localhost:8080/"
        },
        "outputId": "22dc21af-1de9-457e-92ea-73c2ea20da4f"
      },
      "execution_count": null,
      "outputs": [
        {
          "output_type": "stream",
          "name": "stdout",
          "text": [
            "12\n",
            "insert 0 5\n",
            "insert 1 10\n",
            "insert 0 6\n",
            "print\n",
            "[6, 5, 10]\n",
            "remove 6\n",
            "append 9\n",
            "append 1\n",
            "sort\n",
            "print\n",
            "[1, 5, 9, 10]\n",
            "pop\n",
            "reverse\n",
            "print\n",
            "[9, 5, 1]\n"
          ]
        }
      ]
    },
    {
      "cell_type": "code",
      "source": [],
      "metadata": {
        "colab": {
          "base_uri": "https://localhost:8080/"
        },
        "id": "tZghs_lee4uG",
        "outputId": "5fa7ef42-42ea-48de-a5dc-f06689109e02"
      },
      "execution_count": 1,
      "outputs": [
        {
          "name": "stdout",
          "output_type": "stream",
          "text": [
            "5\n"
          ]
        }
      ]
    },
    {
      "cell_type": "code",
      "source": [
        "import sys\n",
        "\n",
        "# Read all input data\n",
        "input = sys.stdin.read\n",
        "data = input().strip().split('\\n')\n",
        "\n",
        "\n",
        "# Collect student names and grades\n",
        "students = []\n",
        "for i in range(1, len(data), 2):\n",
        "    name = data[i]\n",
        "    grade = float(data[i + 1])\n",
        "    students.append([name, grade])\n",
        "\n",
        "# Get all unique grades and sort them\n",
        "unique_grades = sorted(set(grade for name, grade in students))\n",
        "\n",
        "# Find the second lowest grade\n",
        "if len(unique_grades) > 1:\n",
        "    second_lowest_grade = unique_grades[1]\n",
        "\n",
        "    # Get names of students with the second lowest grade\n",
        "    second_lowest_students = sorted(name for name, grade in students if grade == second_lowest_grade)\n",
        "\n",
        "    # Print each student name in a new line\n",
        "    for student in second_lowest_students:\n",
        "        print(student)"
      ],
      "metadata": {
        "id": "eurePfKZfd0j"
      },
      "execution_count": 4,
      "outputs": []
    },
    {
      "cell_type": "code",
      "source": [
        "data = \"\"\"5\n",
        "Harry\n",
        "37.21\n",
        "Berry\n",
        "37.21\n",
        "Tina\n",
        "39.21\n",
        "Mike\n",
        "40.00\n",
        "37.21\"\"\".strip().split('\\n')\n",
        "\n",
        "import sys\n",
        "\n",
        "# Read all input data from stdin\n",
        "data = sys.stdin.read().strip().split('\\n')\n",
        "\n",
        "# Collect student names and grades\n",
        "students = []\n",
        "for i in range(0, len(data), 2):\n",
        "    name = data[i]\n",
        "    grade = float(data[i + 1])\n",
        "    students.append([name, grade])\n",
        "\n",
        "# Get all unique grades and sort them\n",
        "unique_grades = sorted(set(grade for name, grade in students))\n",
        "\n",
        "# Find the second lowest grade\n",
        "if len(unique_grades) > 1:\n",
        "    second_lowest_grade = unique_grades[1]\n",
        "\n",
        "    # Get names of students with the second lowest grade\n",
        "    second_lowest_students = sorted(name for name, grade in students if grade == second_lowest_grade)\n",
        "\n",
        "    # Print each student name in a new line\n",
        "    for student in second_lowest_students:\n",
        "        print(student)"
      ],
      "metadata": {
        "colab": {
          "base_uri": "https://localhost:8080/",
          "height": 211
        },
        "id": "Vrd7_HsFguTd",
        "outputId": "5372ab6b-c25a-4351-8e4d-c6e7cbbd81a7"
      },
      "execution_count": 5,
      "outputs": [
        {
          "output_type": "error",
          "ename": "IndexError",
          "evalue": "list index out of range",
          "traceback": [
            "\u001b[0;31m---------------------------------------------------------------------------\u001b[0m",
            "\u001b[0;31mIndexError\u001b[0m                                Traceback (most recent call last)",
            "\u001b[0;32m<ipython-input-5-ca0671e51ece>\u001b[0m in \u001b[0;36m<cell line: 19>\u001b[0;34m()\u001b[0m\n\u001b[1;32m     19\u001b[0m \u001b[0;32mfor\u001b[0m \u001b[0mi\u001b[0m \u001b[0;32min\u001b[0m \u001b[0mrange\u001b[0m\u001b[0;34m(\u001b[0m\u001b[0;36m0\u001b[0m\u001b[0;34m,\u001b[0m \u001b[0mlen\u001b[0m\u001b[0;34m(\u001b[0m\u001b[0mdata\u001b[0m\u001b[0;34m)\u001b[0m\u001b[0;34m,\u001b[0m \u001b[0;36m2\u001b[0m\u001b[0;34m)\u001b[0m\u001b[0;34m:\u001b[0m\u001b[0;34m\u001b[0m\u001b[0;34m\u001b[0m\u001b[0m\n\u001b[1;32m     20\u001b[0m     \u001b[0mname\u001b[0m \u001b[0;34m=\u001b[0m \u001b[0mdata\u001b[0m\u001b[0;34m[\u001b[0m\u001b[0mi\u001b[0m\u001b[0;34m]\u001b[0m\u001b[0;34m\u001b[0m\u001b[0;34m\u001b[0m\u001b[0m\n\u001b[0;32m---> 21\u001b[0;31m     \u001b[0mgrade\u001b[0m \u001b[0;34m=\u001b[0m \u001b[0mfloat\u001b[0m\u001b[0;34m(\u001b[0m\u001b[0mdata\u001b[0m\u001b[0;34m[\u001b[0m\u001b[0mi\u001b[0m \u001b[0;34m+\u001b[0m \u001b[0;36m1\u001b[0m\u001b[0;34m]\u001b[0m\u001b[0;34m)\u001b[0m\u001b[0;34m\u001b[0m\u001b[0;34m\u001b[0m\u001b[0m\n\u001b[0m\u001b[1;32m     22\u001b[0m     \u001b[0mstudents\u001b[0m\u001b[0;34m.\u001b[0m\u001b[0mappend\u001b[0m\u001b[0;34m(\u001b[0m\u001b[0;34m[\u001b[0m\u001b[0mname\u001b[0m\u001b[0;34m,\u001b[0m \u001b[0mgrade\u001b[0m\u001b[0;34m]\u001b[0m\u001b[0;34m)\u001b[0m\u001b[0;34m\u001b[0m\u001b[0;34m\u001b[0m\u001b[0m\n\u001b[1;32m     23\u001b[0m \u001b[0;34m\u001b[0m\u001b[0m\n",
            "\u001b[0;31mIndexError\u001b[0m: list index out of range"
          ]
        }
      ]
    },
    {
      "cell_type": "code",
      "source": [
        "data = \"\"\"5\n",
        "Harry\n",
        "37.21\n",
        "Berry\n",
        "37.21\n",
        "Tina\n",
        "39.21\n",
        "Mike\n",
        "40.00\n",
        "37.21\"\"\".strip().split('\\n')\n",
        "\n",
        "import sys\n",
        "\n",
        "# Read all input data from stdin\n",
        "data = sys.stdin.read().strip().split('\\n')\n",
        "\n",
        "# Validate the number of lines in input\n",
        "if len(data) % 2 != 0:\n",
        "\n",
        "\n",
        "# Collect student names and grades\n",
        "students = []\n",
        "for i in range(0, len(data), 2):\n",
        "    try:\n",
        "        name = data[i]\n",
        "        grade = float(data[i + 1])\n",
        "        students.append([name, grade])\n",
        "    except IndexError:\n",
        "        raise ValueError(f\"Data at line {i + 1} or {i + 2} is missing or incomplete.\")\n",
        "    except ValueError:\n",
        "        raise ValueError(f\"Invalid grade value at line {i + 2}. Must be a number.\")\n",
        "\n",
        "# Get all unique grades and sort them\n",
        "unique_grades = sorted(set(grade for name, grade in students))\n",
        "\n",
        "# Ensure there is a second lowest grade\n",
        "if len(unique_grades) > 1:\n",
        "    second_lowest_grade = unique_grades[1]\n",
        "\n",
        "    # Get names of students with the second lowest grade\n",
        "    second_lowest_students = sorted(name for name, grade in students if grade == second_lowest_grade)\n",
        "\n",
        "    # Print each student name in a new line\n",
        "    for student in second_lowest_students:\n",
        "        print(student)\n",
        "else:\n",
        "    print(\"Not enough distinct grades to determine the second lowest grade.\")"
      ],
      "metadata": {
        "colab": {
          "base_uri": "https://localhost:8080/",
          "height": 106
        },
        "id": "k8atM3SxhSIW",
        "outputId": "04f9995c-3e61-4a05-ab7e-38eed12f61f1"
      },
      "execution_count": 7,
      "outputs": [
        {
          "output_type": "error",
          "ename": "IndentationError",
          "evalue": "expected an indented block after 'if' statement on line 18 (<ipython-input-7-63bcf8e4e595>, line 22)",
          "traceback": [
            "\u001b[0;36m  File \u001b[0;32m\"<ipython-input-7-63bcf8e4e595>\"\u001b[0;36m, line \u001b[0;32m22\u001b[0m\n\u001b[0;31m    students = []\u001b[0m\n\u001b[0m    ^\u001b[0m\n\u001b[0;31mIndentationError\u001b[0m\u001b[0;31m:\u001b[0m expected an indented block after 'if' statement on line 18\n"
          ]
        }
      ]
    },
    {
      "cell_type": "code",
      "source": [
        "n = 3\n",
        "\n",
        "# Initialize an empty dictionary to store student records\n",
        "student_marks = {}\n",
        "\n",
        "# Read each student record and store it in the dictionary\n",
        "for _ in range(n):\n",
        "    # Read the input line\n",
        "    line = input().strip().split()\n",
        "    name = line[0]\n",
        "    # Convert the rest of the line to integers and store in a list\n",
        "    marks = list(map(float, line[1:]))\n",
        "    student_marks[name] = marks\n",
        "\n",
        "# Read the query name\n",
        "query_name = input().strip()\n",
        "\n",
        "# Retrieve the marks for the query name\n",
        "marks = student_marks.get(query_name, [])\n",
        "\n",
        "# Calculate the average of the marks\n",
        "average = sum(marks) / len(marks) if marks else 0\n",
        "\n",
        "# Print the average, formatted to 2 decimal places\n",
        "print(f\"{average:.2f}\")"
      ],
      "metadata": {
        "colab": {
          "base_uri": "https://localhost:8080/",
          "height": 211
        },
        "id": "IoykqiyAkzvJ",
        "outputId": "d67b6cf2-fc83-4738-800e-754ef745eaa4"
      },
      "execution_count": 10,
      "outputs": [
        {
          "output_type": "error",
          "ename": "IndexError",
          "evalue": "list index out of range",
          "traceback": [
            "\u001b[0;31m---------------------------------------------------------------------------\u001b[0m",
            "\u001b[0;31mIndexError\u001b[0m                                Traceback (most recent call last)",
            "\u001b[0;32m<ipython-input-10-8091b97dd910>\u001b[0m in \u001b[0;36m<cell line: 7>\u001b[0;34m()\u001b[0m\n\u001b[1;32m      8\u001b[0m     \u001b[0;31m# Read the input line\u001b[0m\u001b[0;34m\u001b[0m\u001b[0;34m\u001b[0m\u001b[0m\n\u001b[1;32m      9\u001b[0m     \u001b[0mline\u001b[0m \u001b[0;34m=\u001b[0m \u001b[0minput\u001b[0m\u001b[0;34m(\u001b[0m\u001b[0;34m)\u001b[0m\u001b[0;34m.\u001b[0m\u001b[0mstrip\u001b[0m\u001b[0;34m(\u001b[0m\u001b[0;34m)\u001b[0m\u001b[0;34m.\u001b[0m\u001b[0msplit\u001b[0m\u001b[0;34m(\u001b[0m\u001b[0;34m)\u001b[0m\u001b[0;34m\u001b[0m\u001b[0;34m\u001b[0m\u001b[0m\n\u001b[0;32m---> 10\u001b[0;31m     \u001b[0mname\u001b[0m \u001b[0;34m=\u001b[0m \u001b[0mline\u001b[0m\u001b[0;34m[\u001b[0m\u001b[0;36m0\u001b[0m\u001b[0;34m]\u001b[0m\u001b[0;34m\u001b[0m\u001b[0;34m\u001b[0m\u001b[0m\n\u001b[0m\u001b[1;32m     11\u001b[0m     \u001b[0;31m# Convert the rest of the line to integers and store in a list\u001b[0m\u001b[0;34m\u001b[0m\u001b[0;34m\u001b[0m\u001b[0m\n\u001b[1;32m     12\u001b[0m     \u001b[0mmarks\u001b[0m \u001b[0;34m=\u001b[0m \u001b[0mlist\u001b[0m\u001b[0;34m(\u001b[0m\u001b[0mmap\u001b[0m\u001b[0;34m(\u001b[0m\u001b[0mfloat\u001b[0m\u001b[0;34m,\u001b[0m \u001b[0mline\u001b[0m\u001b[0;34m[\u001b[0m\u001b[0;36m1\u001b[0m\u001b[0;34m:\u001b[0m\u001b[0;34m]\u001b[0m\u001b[0;34m)\u001b[0m\u001b[0;34m)\u001b[0m\u001b[0;34m\u001b[0m\u001b[0;34m\u001b[0m\u001b[0m\n",
            "\u001b[0;31mIndexError\u001b[0m: list index out of range"
          ]
        }
      ]
    }
  ]
}