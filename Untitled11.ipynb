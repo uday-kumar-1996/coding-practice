{
  "nbformat": 4,
  "nbformat_minor": 0,
  "metadata": {
    "colab": {
      "provenance": [],
      "authorship_tag": "ABX9TyOET0zHcqdGvypCcM+OmbIF",
      "include_colab_link": true
    },
    "kernelspec": {
      "name": "python3",
      "display_name": "Python 3"
    },
    "language_info": {
      "name": "python"
    }
  },
  "cells": [
    {
      "cell_type": "markdown",
      "metadata": {
        "id": "view-in-github",
        "colab_type": "text"
      },
      "source": [
        "<a href=\"https://colab.research.google.com/github/uday-kumar-1996/coding-practice/blob/main/Untitled11.ipynb\" target=\"_parent\"><img src=\"https://colab.research.google.com/assets/colab-badge.svg\" alt=\"Open In Colab\"/></a>"
      ]
    },
    {
      "cell_type": "code",
      "execution_count": null,
      "metadata": {
        "colab": {
          "base_uri": "https://localhost:8080/"
        },
        "id": "T0U4jeaj8wZt",
        "outputId": "929774d5-3833-44b1-f0ed-9453f75483ef"
      },
      "outputs": [
        {
          "output_type": "stream",
          "name": "stdout",
          "text": [
            "[1, 4, 9, 16, 25]\n"
          ]
        }
      ],
      "source": [
        "numbers = [1, 2, 3, 4, 5]\n",
        "squares=list(map(lambda x:x**2,numbers))\n",
        "print(squares)"
      ]
    },
    {
      "cell_type": "code",
      "source": [
        "numbers = [1, 2, 3, 4, 5,6,7,8,9]\n",
        "even_num=list(filter(lambda x:x%2==0,numbers))\n",
        "print(even_num)"
      ],
      "metadata": {
        "colab": {
          "base_uri": "https://localhost:8080/"
        },
        "id": "9BBgDeNG9-tn",
        "outputId": "1a25d975-d586-4ac9-f3bd-630609752f06"
      },
      "execution_count": null,
      "outputs": [
        {
          "output_type": "stream",
          "name": "stdout",
          "text": [
            "[2, 4, 6, 8]\n"
          ]
        }
      ]
    },
    {
      "cell_type": "code",
      "source": [
        "grades=[78,92,85,65,89,76,81,59]\n",
        "list_1=['A'if grade>=90 else 'B'if grade>=80 else'C'if grade>=70 else'D'if grade>=60 else'F' for grade in grades]\n",
        "print(list_1)"
      ],
      "metadata": {
        "colab": {
          "base_uri": "https://localhost:8080/"
        },
        "id": "Gt-8D5mxNAta",
        "outputId": "b6bc78ec-3ff5-445b-91c1-2bd5115df387"
      },
      "execution_count": null,
      "outputs": [
        {
          "output_type": "stream",
          "name": "stdout",
          "text": [
            "['C', 'A', 'B', 'D', 'B', 'C', 'B', 'F']\n"
          ]
        }
      ]
    },
    {
      "cell_type": "code",
      "source": [
        "celsius_temps = [25, 30, 15, 20, 10]\n",
        "fahrenheit_temps = map(lambda x: (x * 9/5) + 32 for x in celsius_temps)\n",
        "print(fahrenheit_temps)"
      ],
      "metadata": {
        "colab": {
          "base_uri": "https://localhost:8080/"
        },
        "id": "d3AwxrpbPgSZ",
        "outputId": "7b0b2936-e607-4336-8404-13d8997e0c76"
      },
      "execution_count": null,
      "outputs": [
        {
          "output_type": "stream",
          "name": "stdout",
          "text": [
            "[<function <genexpr>.<lambda> at 0x7fc97f507880>, <function <genexpr>.<lambda> at 0x7fc97f505990>, <function <genexpr>.<lambda> at 0x7fc97f5076d0>, <function <genexpr>.<lambda> at 0x7fc97f505120>, <function <genexpr>.<lambda> at 0x7fc97f507eb0>]\n"
          ]
        }
      ]
    },
    {
      "cell_type": "code",
      "source": [
        "celsius_temps = [25, 30, 15, 20, 10]\n",
        "fahrenheit_temps = list(map(lambda x: x * 9/5 + 32, celsius_temps))\n",
        "print(fahrenheit_temps)"
      ],
      "metadata": {
        "colab": {
          "base_uri": "https://localhost:8080/"
        },
        "id": "fX36v7jBP7Q-",
        "outputId": "e995b958-01f0-4db5-ee94-6b6f1caa3458"
      },
      "execution_count": null,
      "outputs": [
        {
          "output_type": "stream",
          "name": "stdout",
          "text": [
            "[77.0, 86.0, 59.0, 68.0, 50.0]\n"
          ]
        }
      ]
    },
    {
      "cell_type": "code",
      "source": [
        "vowels={char for char in \"hello world!\" if char in 'aeiou'}\n",
        "print(vowels)"
      ],
      "metadata": {
        "colab": {
          "base_uri": "https://localhost:8080/"
        },
        "id": "1CJVRJbzSn3K",
        "outputId": "7e5fd416-6f79-47fc-fd88-b3aaada09c3c"
      },
      "execution_count": null,
      "outputs": [
        {
          "output_type": "stream",
          "name": "stdout",
          "text": [
            "{'e', 'o'}\n"
          ]
        }
      ]
    },
    {
      "cell_type": "code",
      "source": [
        "\n",
        "string1 = \"hello\"\n",
        "string2 = \"world\"\n",
        "unique_chars = {char for char in string1 for char2 in string2 if char == char2}\n",
        "print(unique_chars)"
      ],
      "metadata": {
        "colab": {
          "base_uri": "https://localhost:8080/"
        },
        "id": "OiQRSKUFTmJd",
        "outputId": "125503e4-bf76-4b5f-aa05-d4f763c30dd4"
      },
      "execution_count": null,
      "outputs": [
        {
          "output_type": "stream",
          "name": "stdout",
          "text": [
            "{'l', 'o'}\n"
          ]
        }
      ]
    },
    {
      "cell_type": "code",
      "source": [
        "books = [('fiction', 20), ('history', 15), ('biography', 5), ('mystery', 10), ('science', 8), ('fiction', 15), ('history', 10)]\n",
        "\n",
        "# Using set comprehension to create a set of book categories with at least 10 books in stock\n",
        "categories = {(category,stock) for category, stock in books if stock >= 10}\n",
        "\n",
        "print(categories)"
      ],
      "metadata": {
        "colab": {
          "base_uri": "https://localhost:8080/"
        },
        "id": "B7l8PPVYUE00",
        "outputId": "cfdd2277-a394-448b-944a-f70725469292"
      },
      "execution_count": null,
      "outputs": [
        {
          "output_type": "stream",
          "name": "stdout",
          "text": [
            "{('mystery', 10), ('fiction', 15), ('history', 15), ('fiction', 20), ('history', 10)}\n"
          ]
        }
      ]
    },
    {
      "cell_type": "code",
      "source": [
        "names = ['Alice', 'Bob', 'Charlie', 'Dave']\n",
        "name_lengths = {name:len(name) for name in names}\n",
        "print(name_lengths)"
      ],
      "metadata": {
        "colab": {
          "base_uri": "https://localhost:8080/"
        },
        "id": "JbKjvy7DVRNj",
        "outputId": "eaafbdb5-eb89-409b-ffe4-c59cb0b816ed"
      },
      "execution_count": null,
      "outputs": [
        {
          "output_type": "stream",
          "name": "stdout",
          "text": [
            "{'Alice': 5, 'Bob': 3, 'Charlie': 7, 'Dave': 4}\n"
          ]
        }
      ]
    },
    {
      "cell_type": "markdown",
      "source": [
        "ZIP Function():The \"zip()\" function is used to combine multiple iterables into a single iterable of tuples. It pairs elements from different sequences based on their index. This is particularly useful when you want to loop through multiple lists or strings simultaneously."
      ],
      "metadata": {
        "id": "kjnw_F8kZ0zC"
      }
    },
    {
      "cell_type": "code",
      "source": [
        "names = ['Alice', 'Bob', 'Charlie']\n",
        "scores = [85, 92, 78]\n",
        "for name, score in zip(names, scores):\n",
        "    print(f\"{name}: {score}\")\n"
      ],
      "metadata": {
        "colab": {
          "base_uri": "https://localhost:8080/"
        },
        "id": "oxiFUdQ2ZftU",
        "outputId": "0496c035-fef5-4f97-a2e0-60f8280df443"
      },
      "execution_count": null,
      "outputs": [
        {
          "output_type": "stream",
          "name": "stdout",
          "text": [
            "Alice: 85\n",
            "Bob: 92\n",
            "Charlie: 78\n"
          ]
        }
      ]
    },
    {
      "cell_type": "code",
      "source": [
        "a=str(input())\n",
        "b=a.lower()\n",
        "c={char:b.count(char) for char in b}\n",
        "print(c)"
      ],
      "metadata": {
        "colab": {
          "base_uri": "https://localhost:8080/"
        },
        "id": "i8vvuolSbly8",
        "outputId": "f55c6cb0-79e7-47f2-e923-e135f6313f2e"
      },
      "execution_count": null,
      "outputs": [
        {
          "output_type": "stream",
          "name": "stdout",
          "text": [
            "Almabetter\n",
            "{'a': 2, 'l': 1, 'm': 1, 'b': 1, 'e': 2, 't': 2, 'r': 1}\n"
          ]
        }
      ]
    },
    {
      "cell_type": "code",
      "source": [
        "print([i.lower() for i in \"HELLO\"])"
      ],
      "metadata": {
        "id": "m2lHk-PUgNZT",
        "outputId": "471ebc62-5dd2-4304-85f7-081433b69c76",
        "colab": {
          "base_uri": "https://localhost:8080/"
        }
      },
      "execution_count": null,
      "outputs": [
        {
          "output_type": "stream",
          "name": "stdout",
          "text": [
            "['h', 'e', 'l', 'l', 'o']\n"
          ]
        }
      ]
    }
  ]
}