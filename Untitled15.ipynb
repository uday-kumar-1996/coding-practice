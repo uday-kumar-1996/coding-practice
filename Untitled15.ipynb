{
  "nbformat": 4,
  "nbformat_minor": 0,
  "metadata": {
    "colab": {
      "provenance": [],
      "authorship_tag": "ABX9TyOukYQ9/v3yuLo5vtyPiwDz",
      "include_colab_link": true
    },
    "kernelspec": {
      "name": "python3",
      "display_name": "Python 3"
    },
    "language_info": {
      "name": "python"
    }
  },
  "cells": [
    {
      "cell_type": "markdown",
      "metadata": {
        "id": "view-in-github",
        "colab_type": "text"
      },
      "source": [
        "<a href=\"https://colab.research.google.com/github/uday-kumar-1996/coding-practice/blob/main/Untitled15.ipynb\" target=\"_parent\"><img src=\"https://colab.research.google.com/assets/colab-badge.svg\" alt=\"Open In Colab\"/></a>"
      ]
    },
    {
      "cell_type": "code",
      "execution_count": null,
      "metadata": {
        "colab": {
          "base_uri": "https://localhost:8080/"
        },
        "id": "_qKU4fAAF1pv",
        "outputId": "76d43367-6db2-45f7-ec6c-93312a60d93d"
      },
      "outputs": [
        {
          "output_type": "stream",
          "name": "stdout",
          "text": [
            "[['Fries', 3.99, 'Side'], ['Ice Cream', 4.99, 'Dessert'], ['Salad', 7.99, 'Appetizer'], ['Burger', 10.99, 'Entree'], ['Pizza', 14.99, 'Entree']]\n"
          ]
        }
      ],
      "source": [
        "menu = [\n",
        "    [\"Burger\", 10.99, \"Entree\"],\n",
        "    [\"Salad\", 7.99, \"Appetizer\"],\n",
        "    [\"Pizza\", 14.99, \"Entree\"],\n",
        "    [\"Fries\", 3.99, \"Side\"],\n",
        "    [\"Ice Cream\", 4.99, \"Dessert\"],\n",
        "]\n",
        "menu.sort(key=lambda items:items[1])\n",
        "print(menu)"
      ]
    },
    {
      "cell_type": "code",
      "source": [
        "import numpy as np\n",
        "my_array = np.array([10, 20, 30, 40, 50])\n",
        "print(len(my_array))"
      ],
      "metadata": {
        "colab": {
          "base_uri": "https://localhost:8080/"
        },
        "id": "osr8-rIqRGUp",
        "outputId": "57a0c514-efdd-487f-d81f-dfb9492195fa"
      },
      "execution_count": null,
      "outputs": [
        {
          "output_type": "stream",
          "name": "stdout",
          "text": [
            "5\n"
          ]
        }
      ]
    },
    {
      "cell_type": "code",
      "source": [
        "string1 = \"Hello\"\n",
        "string2 = \"World\"\n",
        "concatenated_string = string1 +\" \"+string2\n",
        "print(concatenated_string)"
      ],
      "metadata": {
        "colab": {
          "base_uri": "https://localhost:8080/"
        },
        "id": "p9LJz5EdVNHF",
        "outputId": "bfa250c1-c20c-4fb9-a610-ca1459a03d73"
      },
      "execution_count": null,
      "outputs": [
        {
          "output_type": "stream",
          "name": "stdout",
          "text": [
            "Hello World\n"
          ]
        }
      ]
    },
    {
      "cell_type": "code",
      "source": [
        "\n",
        "array = [3, 8, 1, 6, 2, 10, 4, 7, 5, 9, 1, 2, 5, 8]\n",
        "unique_array = []\n",
        "\n",
        "for num in array:\n",
        "    if num not in unique_array:\n",
        "        unique_array.append(num)\n",
        "\n",
        "print(\"Array with duplicates removed:\", unique_array)"
      ],
      "metadata": {
        "colab": {
          "base_uri": "https://localhost:8080/"
        },
        "id": "3uyj_kkZdKRB",
        "outputId": "5b3e4f0b-2207-4e84-fc4c-6085fd821d7a"
      },
      "execution_count": null,
      "outputs": [
        {
          "output_type": "stream",
          "name": "stdout",
          "text": [
            "Array with duplicates removed: [3, 8, 1, 6, 2, 10, 4, 7, 5, 9]\n"
          ]
        }
      ]
    },
    {
      "cell_type": "code",
      "source": [
        "import numpy as np\n",
        "arr = np.array([1, 2, 3, 4, 5])\n",
        "new_arr = arr[1::2]\n",
        "print(new_arr)"
      ],
      "metadata": {
        "colab": {
          "base_uri": "https://localhost:8080/"
        },
        "id": "c0-du3QXkhWe",
        "outputId": "b2561cc6-12c7-419e-a9c2-36fa47475cda"
      },
      "execution_count": null,
      "outputs": [
        {
          "output_type": "stream",
          "name": "stdout",
          "text": [
            "[2 4]\n"
          ]
        }
      ]
    },
    {
      "cell_type": "code",
      "source": [
        "arr = [2, 4, 6, 8]\n",
        "for i in range(len(arr)):\n",
        "  if arr[i] % 2 == 0:\n",
        "    arr[i] = arr[i] ** 2\n",
        "    print(arr)"
      ],
      "metadata": {
        "colab": {
          "base_uri": "https://localhost:8080/"
        },
        "id": "-MsHm2YEkmoo",
        "outputId": "0cdb53fb-3a32-4de9-bf3b-cc965d627b1a"
      },
      "execution_count": null,
      "outputs": [
        {
          "output_type": "stream",
          "name": "stdout",
          "text": [
            "[4, 4, 6, 8]\n",
            "[4, 16, 6, 8]\n",
            "[4, 16, 36, 8]\n",
            "[4, 16, 36, 64]\n"
          ]
        }
      ]
    },
    {
      "cell_type": "code",
      "source": [
        "arr = np.array([[1, 2, 3], [4, 5, 6], [7, 8, 9]])\n",
        "new_arr = arr[0:2, 1:]\n",
        "print(new_arr)"
      ],
      "metadata": {
        "colab": {
          "base_uri": "https://localhost:8080/"
        },
        "id": "dUA675jlkp79",
        "outputId": "58059f06-cc51-4382-d9c5-ed2557b8b7e0"
      },
      "execution_count": null,
      "outputs": [
        {
          "output_type": "stream",
          "name": "stdout",
          "text": [
            "[[2 3]\n",
            " [5 6]]\n"
          ]
        }
      ]
    },
    {
      "cell_type": "code",
      "source": [
        "\n",
        "def recursive_factorial(n):\n",
        "    if n == 1:  # Base case: if n equals 0\n",
        "        print(1)   # Return 1 (as 0! equals 1)\n",
        "    else:\n",
        "        recursive_factorial(n-1)\n",
        "        print(n)\n",
        "recursive_factorial(4)"
      ],
      "metadata": {
        "colab": {
          "base_uri": "https://localhost:8080/"
        },
        "id": "xL77V4LW3Hpt",
        "outputId": "0bc5efe0-7db8-409a-c5aa-699f0f0e081b"
      },
      "execution_count": 15,
      "outputs": [
        {
          "output_type": "stream",
          "name": "stdout",
          "text": [
            "1\n",
            "2\n",
            "3\n",
            "4\n"
          ]
        }
      ]
    },
    {
      "cell_type": "code",
      "source": [
        "def sum_natural_numbers(n):\n",
        "    if n == 1:\n",
        "        return 1\n",
        "    else:\n",
        "        return n + sum_natural_numbers(n-1)\n",
        "\n",
        "# Taking input from user\n",
        "num = int(input(\"Enter a number: \"))\n",
        "\n",
        "# Checking if the input is valid\n",
        "if num <= 0:\n",
        "    print(\"Invalid input. Please enter a positive integer.\")\n",
        "else:\n",
        "    print(\"The sum of natural numbers up to\", num, \"is\", sum_natural_numbers(num))"
      ],
      "metadata": {
        "colab": {
          "base_uri": "https://localhost:8080/"
        },
        "id": "kYf_-wrtA1yS",
        "outputId": "2d66ed77-f074-42ec-dd44-8f731a15b547"
      },
      "execution_count": 17,
      "outputs": [
        {
          "output_type": "stream",
          "name": "stdout",
          "text": [
            "Enter a number: 10\n",
            "The sum of natural numbers up to 10 is 55\n"
          ]
        }
      ]
    },
    {
      "cell_type": "code",
      "source": [],
      "metadata": {
        "id": "EW7ZA2TOA1c7"
      },
      "execution_count": null,
      "outputs": []
    }
  ]
}