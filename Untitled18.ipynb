{
  "nbformat": 4,
  "nbformat_minor": 0,
  "metadata": {
    "colab": {
      "provenance": [],
      "authorship_tag": "ABX9TyNNtkbdzzWaNa1m767r1qXq",
      "include_colab_link": true
    },
    "kernelspec": {
      "name": "python3",
      "display_name": "Python 3"
    },
    "language_info": {
      "name": "python"
    }
  },
  "cells": [
    {
      "cell_type": "markdown",
      "metadata": {
        "id": "view-in-github",
        "colab_type": "text"
      },
      "source": [
        "<a href=\"https://colab.research.google.com/github/uday-kumar-1996/coding-practice/blob/main/Untitled18.ipynb\" target=\"_parent\"><img src=\"https://colab.research.google.com/assets/colab-badge.svg\" alt=\"Open In Colab\"/></a>"
      ]
    },
    {
      "cell_type": "code",
      "source": [
        "import numpy as np"
      ],
      "metadata": {
        "id": "zfRjqvu1Vw-W"
      },
      "execution_count": null,
      "outputs": []
    },
    {
      "cell_type": "code",
      "execution_count": null,
      "metadata": {
        "colab": {
          "base_uri": "https://localhost:8080/"
        },
        "id": "DgrbpZpgVhpJ",
        "outputId": "0c334d6a-175a-4eec-bf91-835a4638fd99"
      },
      "outputs": [
        {
          "output_type": "stream",
          "name": "stdout",
          "text": [
            "[ 0.          0.1010101   0.2020202   0.3030303   0.4040404   0.50505051\n",
            "  0.60606061  0.70707071  0.80808081  0.90909091  1.01010101  1.11111111\n",
            "  1.21212121  1.31313131  1.41414141  1.51515152  1.61616162  1.71717172\n",
            "  1.81818182  1.91919192  2.02020202  2.12121212  2.22222222  2.32323232\n",
            "  2.42424242  2.52525253  2.62626263  2.72727273  2.82828283  2.92929293\n",
            "  3.03030303  3.13131313  3.23232323  3.33333333  3.43434343  3.53535354\n",
            "  3.63636364  3.73737374  3.83838384  3.93939394  4.04040404  4.14141414\n",
            "  4.24242424  4.34343434  4.44444444  4.54545455  4.64646465  4.74747475\n",
            "  4.84848485  4.94949495  5.05050505  5.15151515  5.25252525  5.35353535\n",
            "  5.45454545  5.55555556  5.65656566  5.75757576  5.85858586  5.95959596\n",
            "  6.06060606  6.16161616  6.26262626  6.36363636  6.46464646  6.56565657\n",
            "  6.66666667  6.76767677  6.86868687  6.96969697  7.07070707  7.17171717\n",
            "  7.27272727  7.37373737  7.47474747  7.57575758  7.67676768  7.77777778\n",
            "  7.87878788  7.97979798  8.08080808  8.18181818  8.28282828  8.38383838\n",
            "  8.48484848  8.58585859  8.68686869  8.78787879  8.88888889  8.98989899\n",
            "  9.09090909  9.19191919  9.29292929  9.39393939  9.49494949  9.5959596\n",
            "  9.6969697   9.7979798   9.8989899  10.        ]\n"
          ]
        }
      ],
      "source": [
        "x = np.linspace(0, 10, 100)\n",
        "print(x)"
      ]
    },
    {
      "cell_type": "code",
      "source": [
        "\n",
        "import matplotlib.pyplot as plt\n",
        "\n",
        "professions = ['Engineers', 'Teachers', 'Doctors', 'Lawyers']\n",
        "income = [75000, 50000, 100000, 90000]\n",
        "\n",
        "plt.barh(professions, income)\n",
        "plt.title('Average Income by Profession')\n",
        "plt.xlabel('Income (USD)')\n",
        "plt.ylabel('Profession')\n",
        "plt.show()\n"
      ],
      "metadata": {
        "colab": {
          "base_uri": "https://localhost:8080/",
          "height": 472
        },
        "id": "-VdhoDRDi6PM",
        "outputId": "89f13121-db12-4366-9c7d-b9d7b29569ac"
      },
      "execution_count": null,
      "outputs": [
        {
          "output_type": "display_data",
          "data": {
            "text/plain": [
              "<Figure size 640x480 with 1 Axes>"
            ],
            "image/png": "[encoded data removed]"
          },
          "metadata": {}
        }
      ]
    },
    {
      "cell_type": "code",
      "source": [
        "arr = [1, 2, 3, 4, 5]\n",
        "arr.remove(3)\n",
        "print(arr)"
      ],
      "metadata": {
        "colab": {
          "base_uri": "https://localhost:8080/"
        },
        "id": "Pmjej1fFwPQR",
        "outputId": "c7873ca7-af83-4cc9-f8bc-e38e1ac99210"
      },
      "execution_count": null,
      "outputs": [
        {
          "output_type": "stream",
          "name": "stdout",
          "text": [
            "[1, 2, 4, 5]\n"
          ]
        }
      ]
    },
    {
      "cell_type": "code",
      "source": [
        "def power(base, exponent):\n",
        "    result = 1\n",
        "    for i in range(exponent):\n",
        "        result *= base\n",
        "    return result\n",
        "\n",
        "print(power(2, 4))"
      ],
      "metadata": {
        "colab": {
          "base_uri": "https://localhost:8080/"
        },
        "id": "quvsGC1LxYJM",
        "outputId": "27a8d8db-b1e1-40f3-da66-071dfd88166b"
      },
      "execution_count": null,
      "outputs": [
        {
          "output_type": "stream",
          "name": "stdout",
          "text": [
            "16\n"
          ]
        }
      ]
    },
    {
      "cell_type": "code",
      "source": [
        "\n",
        "def find_data(arr, target):\n",
        "    if len(arr) == 0:\n",
        "        return False\n",
        "    elif arr[len(arr)//2] == target:\n",
        "        return True\n",
        "    elif arr[len(arr)//2] < target:\n",
        "        return find_data(arr[len(arr)//2+1:], target)\n",
        "    else:\n",
        "        return find_data(arr[:len(arr)//2], target)\n",
        "\n",
        "arr = [1, 2, 3, 4, 5]\n",
        "target = 3\n",
        "print(find_data(arr, target))"
      ],
      "metadata": {
        "colab": {
          "base_uri": "https://localhost:8080/"
        },
        "id": "XwM_eq9ByTRb",
        "outputId": "d700b436-5253-4815-83d4-b5a21820ba95"
      },
      "execution_count": null,
      "outputs": [
        {
          "output_type": "stream",
          "name": "stdout",
          "text": [
            "True\n"
          ]
        }
      ]
    },
    {
      "cell_type": "code",
      "source": [
        "import pandas as pd\n",
        "\n",
        "df = pd.DataFrame({'A': [1, 2, 3, 4], 'B': [5, 6, 7, 8]})\n",
        "print(df.loc[1])"
      ],
      "metadata": {
        "colab": {
          "base_uri": "https://localhost:8080/"
        },
        "id": "vE4DHSR_4w5u",
        "outputId": "dbf6616b-16fa-49d8-efad-a4b79372f755"
      },
      "execution_count": null,
      "outputs": [
        {
          "output_type": "stream",
          "name": "stdout",
          "text": [
            "A    2\n",
            "B    6\n",
            "Name: 1, dtype: int64\n"
          ]
        }
      ]
    },
    {
      "cell_type": "code",
      "source": [
        "import numpy as np\n",
        "arr = np.array([1, 2, 3])\n",
        "new_arr = np.append(arr, [4, 5])\n",
        "print(new_arr)"
      ],
      "metadata": {
        "colab": {
          "base_uri": "https://localhost:8080/"
        },
        "id": "EcORvGad5Hju",
        "outputId": "9c2c462d-897e-4fe0-935e-29d2665cccbe"
      },
      "execution_count": null,
      "outputs": [
        {
          "output_type": "stream",
          "name": "stdout",
          "text": [
            "[1 2 3 4 5]\n"
          ]
        }
      ]
    },
    {
      "cell_type": "code",
      "source": [
        "def display(arr, index):\n",
        "    if index < len(arr):\n",
        "        display(arr, index + 1)\n",
        "        print(arr[index], end=\" \")\n",
        "\n",
        "arr = [1, 2, 3, 4, 5]\n",
        "display(arr, 0)"
      ],
      "metadata": {
        "colab": {
          "base_uri": "https://localhost:8080/"
        },
        "id": "dL_yei446slT",
        "outputId": "9f340a2c-6cbd-462f-d051-a6248e03449f"
      },
      "execution_count": null,
      "outputs": [
        {
          "output_type": "stream",
          "name": "stdout",
          "text": [
            "5 4 3 2 1 "
          ]
        }
      ]
    },
    {
      "cell_type": "code",
      "source": [
        "def count_chars(str1):\n",
        "     upper_ctr, lower_ctr, number_ctr, special_ctr = 0, 0, 0, 0\n",
        "     for i in range(len(str1)):\n",
        "          if str1[i] >= 'A' and str1[i] <= 'Z': upper_ctr += 1\n",
        "          elif str1[i] >= 'a' and str1[i] <= 'z': lower_ctr += 1\n",
        "          elif str1[i] >= '0' and str1[i] <= '9': number_ctr += 1\n",
        "          else: special_ctr += 1\n",
        "     return upper_ctr, lower_ctr, number_ctr, special_ctr\n",
        "\n",
        "str1 = input()\n",
        "print(count_chars(str1))"
      ],
      "metadata": {
        "colab": {
          "base_uri": "https://localhost:8080/"
        },
        "id": "xKh8nwliINof",
        "outputId": "6b9266b6-4480-434f-949c-c78399c18bfe"
      },
      "execution_count": null,
      "outputs": [
        {
          "output_type": "stream",
          "name": "stdout",
          "text": [
            "AlmaBetter@datascience\n",
            "(2, 19, 0, 1)\n"
          ]
        }
      ]
    },
    {
      "cell_type": "code",
      "source": [
        "set1 = set(input().split(' '))\n",
        "set2 = set(input().split(' '))\n",
        "print(sorted(set1|set2))"
      ],
      "metadata": {
        "colab": {
          "base_uri": "https://localhost:8080/"
        },
        "id": "Q521IOOq1KZ9",
        "outputId": "3e4dba2b-8784-4b86-eb05-0b57f584d4f3"
      },
      "execution_count": null,
      "outputs": [
        {
          "output_type": "stream",
          "name": "stdout",
          "text": [
            "21 34 68\n",
            "83 21 90\n",
            "['21', '34', '68', '83', '90']\n"
          ]
        }
      ]
    },
    {
      "cell_type": "code",
      "source": [
        "a=tuple(input().split(','))\n",
        "b=input()\n",
        "if b in a:\n",
        " print(True)\n",
        "else:\n",
        "  print(False)"
      ],
      "metadata": {
        "colab": {
          "base_uri": "https://localhost:8080/"
        },
        "id": "mW-mNkAHa4NW",
        "outputId": "489fcb2e-d6da-4696-e9bb-827f3428f7ea"
      },
      "execution_count": 14,
      "outputs": [
        {
          "output_type": "stream",
          "name": "stdout",
          "text": [
            "w,3,r,e,c,o,u,r,c,e,s c\n",
            "z\n",
            "False\n"
          ]
        }
      ]
    },
    {
      "cell_type": "code",
      "source": [
        "def frequency(tup, n):\n",
        "    count = tup.count(n)\n",
        "    return count\n",
        "\n",
        "tup = tuple(input().split(','))\n",
        "n = input()\n",
        "print(frequency(tup, n))"
      ],
      "metadata": {
        "colab": {
          "base_uri": "https://localhost:8080/"
        },
        "id": "2j3pQmbRbbXM",
        "outputId": "4f43d6cb-36fd-4766-ce79-2ed43a5262ba"
      },
      "execution_count": 3,
      "outputs": [
        {
          "output_type": "stream",
          "name": "stdout",
          "text": [
            "(2, 4, 5, 6, 2, 3, 4, 4, 7)\n",
            "4\n",
            "0\n"
          ]
        }
      ]
    },
    {
      "cell_type": "code",
      "source": [
        "a=tuple(input().split(','))\n",
        "b=input()\n",
        "print(b in a)"
      ],
      "metadata": {
        "colab": {
          "base_uri": "https://localhost:8080/"
        },
        "id": "QAuKFSsEdu3Q",
        "outputId": "03dc148c-0bb8-44cc-81cf-9c9369933d0c"
      },
      "execution_count": 12,
      "outputs": [
        {
          "output_type": "stream",
          "name": "stdout",
          "text": [
            "w,3,r,e,c,o,u,r,c,e,s c\n",
            "c\n",
            "True\n"
          ]
        }
      ]
    }
  ]
}