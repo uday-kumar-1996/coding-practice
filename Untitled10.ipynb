{
  "nbformat": 4,
  "nbformat_minor": 0,
  "metadata": {
    "colab": {
      "provenance": [],
      "authorship_tag": "ABX9TyNZWi2BhNIK8OxCKqfv8Pg3",
      "include_colab_link": true
    },
    "kernelspec": {
      "name": "python3",
      "display_name": "Python 3"
    },
    "language_info": {
      "name": "python"
    }
  },
  "cells": [
    {
      "cell_type": "markdown",
      "metadata": {
        "id": "view-in-github",
        "colab_type": "text"
      },
      "source": [
        "<a href=\"https://colab.research.google.com/github/uday-kumar-1996/coding-practice/blob/main/Untitled10.ipynb\" target=\"_parent\"><img src=\"https://colab.research.google.com/assets/colab-badge.svg\" alt=\"Open In Colab\"/></a>"
      ]
    },
    {
      "cell_type": "code",
      "execution_count": null,
      "metadata": {
        "colab": {
          "base_uri": "https://localhost:8080/"
        },
        "id": "9dIYcuyoZWSs",
        "outputId": "cf254fd5-26f5-4cee-c104-509185fd3bed"
      },
      "outputs": [
        {
          "output_type": "stream",
          "name": "stdout",
          "text": [
            "{'c': 2, 'u': 2, 's': 1, 't': 2, 'o': 2, 'm': 1, 'f': 1, 'n': 2, 'i': 1}\n"
          ]
        }
      ],
      "source": [
        "def count_letters(word):\n",
        "\n",
        "    letter_count = {}\n",
        "    for letter in word:\n",
        "        if letter.isalpha():\n",
        "            letter = letter.lower()\n",
        "            letter_count[letter] = letter_count.get(letter, 0) + 1\n",
        "    return letter_count\n",
        "\n",
        "# Try out here\n",
        "word = \"Custom Function\"\n",
        "result = count_letters(word)\n",
        "print(result)"
      ]
    },
    {
      "cell_type": "code",
      "source": [
        "def count_letters(word):\n",
        "\n",
        "    letter_count = {}\n",
        "    for letter in word:\n",
        "        if letter.isalpha():\n",
        "            letter = letter.lower()\n",
        "            letter_count[letter]=letter_count.get(letter,0)+1\n",
        "    return letter_count\n",
        "\n",
        "# Try out here\n",
        "word = \"Custom Function\"\n",
        "result = count_letters(word)\n",
        "print(result)\n",
        "\n"
      ],
      "metadata": {
        "colab": {
          "base_uri": "https://localhost:8080/"
        },
        "id": "6QOYiOpEZ6Ki",
        "outputId": "846bbdf9-27cd-4903-b5c7-4edb1f37540c"
      },
      "execution_count": null,
      "outputs": [
        {
          "output_type": "stream",
          "name": "stdout",
          "text": [
            "{'c': 2, 'u': 2, 's': 1, 't': 2, 'o': 2, 'm': 1, 'f': 1, 'n': 2, 'i': 1}\n"
          ]
        }
      ]
    },
    {
      "cell_type": "code",
      "source": [
        "def reverse_string(word):\n",
        "  rev_String=word[::-1]\n",
        "  return rev_String\n",
        "\n",
        "my_string='Hello World!'\n",
        "reverse_string(my_string)\n"
      ],
      "metadata": {
        "colab": {
          "base_uri": "https://localhost:8080/",
          "height": 35
        },
        "id": "qvRyWjD_c0Xn",
        "outputId": "a1e78a60-b644-484c-80c8-beab7d4cc5df"
      },
      "execution_count": null,
      "outputs": [
        {
          "output_type": "execute_result",
          "data": {
            "text/plain": [
              "'!dlroW olleH'"
            ],
            "application/vnd.google.colaboratory.intrinsic+json": {
              "type": "string"
            }
          },
          "metadata": {},
          "execution_count": 21
        }
      ]
    },
    {
      "cell_type": "code",
      "source": [
        "global_var=10\n",
        "def modify_global_var():\n",
        "  global global_var\n",
        "  global_var +=20\n",
        "modify_global_var()\n",
        "print(global_var)\n"
      ],
      "metadata": {
        "colab": {
          "base_uri": "https://localhost:8080/"
        },
        "id": "UGiBFOSaqAOm",
        "outputId": "7a91028f-a778-4ddb-aa57-76c077dfbf9b"
      },
      "execution_count": null,
      "outputs": [
        {
          "output_type": "stream",
          "name": "stdout",
          "text": [
            "30\n"
          ]
        }
      ]
    },
    {
      "cell_type": "code",
      "source": [
        "def calculate_perimeter(length, width):\n",
        "    return 2 * (length + width)\n",
        "calculate_perimeter(length=10,width=20)"
      ],
      "metadata": {
        "colab": {
          "base_uri": "https://localhost:8080/"
        },
        "id": "3nrOSYO1xQPp",
        "outputId": "e324374e-143c-4b6a-d440-2a017c66ad6d"
      },
      "execution_count": null,
      "outputs": [
        {
          "output_type": "execute_result",
          "data": {
            "text/plain": [
              "60"
            ]
          },
          "metadata": {},
          "execution_count": 23
        }
      ]
    },
    {
      "cell_type": "code",
      "source": [
        "def calculate_area(radius):\n",
        "    return 3.14 * radius ** 2\n",
        "calculate_area(radius=2)"
      ],
      "metadata": {
        "colab": {
          "base_uri": "https://localhost:8080/"
        },
        "id": "cQybog8Lxg8s",
        "outputId": "b99c26a8-4283-4d8a-b619-5b62e614cb56"
      },
      "execution_count": null,
      "outputs": [
        {
          "output_type": "execute_result",
          "data": {
            "text/plain": [
              "12.56"
            ]
          },
          "metadata": {},
          "execution_count": 25
        }
      ]
    },
    {
      "cell_type": "code",
      "source": [
        "def greet(name):\n",
        "    print(\"Hello, \" + name + \"! How are you?\")\n",
        "greet('uday')"
      ],
      "metadata": {
        "colab": {
          "base_uri": "https://localhost:8080/"
        },
        "id": "2cRaRGqLyZbo",
        "outputId": "065e2dec-673b-42f8-9d4c-00f01d9fb9e0"
      },
      "execution_count": null,
      "outputs": [
        {
          "output_type": "stream",
          "name": "stdout",
          "text": [
            "Hello, uday! How are you?\n"
          ]
        }
      ]
    },
    {
      "cell_type": "code",
      "source": [
        "def calculate_calories_burned(duration_mins, activity):\n",
        "\n",
        "    calories_burned = 0\n",
        "    while duration_mins > 0:\n",
        "        if activity.lower() == \"running\":\n",
        "            calories_burned += 10\n",
        "        elif activity.lower() == \"swimming\":\n",
        "            calories_burned += 8\n",
        "        elif activity.lower() == \"cycling\":\n",
        "            calories_burned += 6\n",
        "        duration_mins -= 1\n",
        "\n",
        "    return f'You burned {calories_burned} calories during the {activity} workout.'\n",
        "\n",
        "# Test the function\n",
        "calculate_calories_burned(duration_mins=20, activity=\"running\")"
      ],
      "metadata": {
        "colab": {
          "base_uri": "https://localhost:8080/",
          "height": 35
        },
        "id": "cB8bUr3Gz4Ij",
        "outputId": "1583d1ec-5cc3-4e1f-8372-37216fa81b21"
      },
      "execution_count": null,
      "outputs": [
        {
          "output_type": "execute_result",
          "data": {
            "text/plain": [
              "'You burned 200 calories during the running workout.'"
            ],
            "application/vnd.google.colaboratory.intrinsic+json": {
              "type": "string"
            }
          },
          "metadata": {},
          "execution_count": 29
        }
      ]
    },
    {
      "cell_type": "code",
      "source": [
        "books = {\n",
        "    \"Harry Potter\": 10,\n",
        "    \"Lord of the Rings\": 5,\n",
        "    \"Game of Thrones\": 2,\n",
        "    \"The Hunger Games\": 8,\n",
        "    \"To Kill a Mockingbird\": 4\n",
        "}\n",
        "def cal_books_to_order(books):\n",
        "  books_to_order={}\n",
        "  for key,value in books.items():\n",
        "    if value<10:\n",
        "      quantity_to_order=10-value\n",
        "      books_to_order[key]=quantity_to_order\n",
        "  return books_to_order\n",
        "cal_books_to_order(books)\n"
      ],
      "metadata": {
        "colab": {
          "base_uri": "https://localhost:8080/"
        },
        "id": "Rh6K9odK7v0-",
        "outputId": "599b29f1-aebe-48c9-991e-84a607c59b65"
      },
      "execution_count": null,
      "outputs": [
        {
          "output_type": "execute_result",
          "data": {
            "text/plain": [
              "{'Lord of the Rings': 5,\n",
              " 'Game of Thrones': 8,\n",
              " 'The Hunger Games': 2,\n",
              " 'To Kill a Mockingbird': 6}"
            ]
          },
          "metadata": {},
          "execution_count": 31
        }
      ]
    }
  ]
}