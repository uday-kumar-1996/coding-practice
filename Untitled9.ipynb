{
  "nbformat": 4,
  "nbformat_minor": 0,
  "metadata": {
    "colab": {
      "provenance": [],
      "authorship_tag": "ABX9TyOVf3Q76b/hKPyzL1iR/u9P",
      "include_colab_link": true
    },
    "kernelspec": {
      "name": "python3",
      "display_name": "Python 3"
    },
    "language_info": {
      "name": "python"
    }
  },
  "cells": [
    {
      "cell_type": "markdown",
      "metadata": {
        "id": "view-in-github",
        "colab_type": "text"
      },
      "source": [
        "<a href=\"https://colab.research.google.com/github/uday-kumar-1996/coding-practice/blob/main/Untitled9.ipynb\" target=\"_parent\"><img src=\"https://colab.research.google.com/assets/colab-badge.svg\" alt=\"Open In Colab\"/></a>"
      ]
    },
    {
      "cell_type": "code",
      "execution_count": 6,
      "metadata": {
        "colab": {
          "base_uri": "https://localhost:8080/"
        },
        "id": "38IYR2-MVTop",
        "outputId": "16337b48-f8fd-49e5-9427-27585619ccca"
      },
      "outputs": [
        {
          "output_type": "stream",
          "name": "stdout",
          "text": [
            "1\n",
            "3\n",
            "5\n",
            "7\n",
            "9\n"
          ]
        }
      ],
      "source": [
        "for i in range(1,10,2):\n",
        "    print(i)"
      ]
    },
    {
      "cell_type": "code",
      "source": [
        "text = ''\n",
        "while text != 'quit':\n",
        "    text = input('Enter a string (type \"quit\" to exit): ')\n",
        "    print('You entered:', text)"
      ],
      "metadata": {
        "colab": {
          "base_uri": "https://localhost:8080/"
        },
        "id": "ijoIB-CAXEtF",
        "outputId": "5634854c-d3c3-40bd-cb6f-38f762d4dffd"
      },
      "execution_count": 7,
      "outputs": [
        {
          "output_type": "stream",
          "name": "stdout",
          "text": [
            "Enter a string (type \"quit\" to exit): uday\n",
            "You entered: uday\n",
            "Enter a string (type \"quit\" to exit): kjhasd\n",
            "You entered: kjhasd\n",
            "Enter a string (type \"quit\" to exit): lkafklfas\n",
            "You entered: lkafklfas\n",
            "Enter a string (type \"quit\" to exit): lkf;klfds\n",
            "You entered: lkf;klfds\n",
            "Enter a string (type \"quit\" to exit): lkdsfk;ldsf\n",
            "You entered: lkdsfk;ldsf\n",
            "Enter a string (type \"quit\" to exit): quit\n",
            "You entered: quit\n"
          ]
        }
      ]
    },
    {
      "cell_type": "code",
      "source": [
        "daily_sales=[10,15,20,12,8,17,9]\n",
        "weekly_sales=0\n",
        "for sales in daily_sales:\n",
        "    weekly_sales=weekly_sales+sales\n",
        "    average_sales=weekly_sales/len(daily_sales)\n",
        "print(weekly_sales)\n",
        "print(average_sales)"
      ],
      "metadata": {
        "colab": {
          "base_uri": "https://localhost:8080/"
        },
        "id": "EdOmWisuYh1a",
        "outputId": "8fd49e0c-5736-497f-ef1e-9f5e0fe3bd8a"
      },
      "execution_count": 9,
      "outputs": [
        {
          "output_type": "stream",
          "name": "stdout",
          "text": [
            "91\n",
            "13.0\n"
          ]
        }
      ]
    },
    {
      "cell_type": "code",
      "source": [
        "numbers = [12, 7, 8, 15, 20, 10, 45]\n",
        "largest_even=0\n",
        "for number in numbers:\n",
        "    if number % 2 == 0:\n",
        "        if number > largest_even:\n",
        "            largest_even = number\n",
        "print(largest_even)"
      ],
      "metadata": {
        "colab": {
          "base_uri": "https://localhost:8080/"
        },
        "id": "rb9ivBKXZYYY",
        "outputId": "fdb2fdef-5e5c-43b9-a7f0-befff3945bac"
      },
      "execution_count": 10,
      "outputs": [
        {
          "output_type": "stream",
          "name": "stdout",
          "text": [
            "20\n"
          ]
        }
      ]
    },
    {
      "cell_type": "code",
      "source": [
        "numbers = [12, 7, 8, 15, 20, 10, 45]\n",
        "largest_even=0\n",
        "i=0\n",
        "while i < len(numbers):\n",
        "  if numbers[i]%2==0:\n",
        "    if numbers[i] > largest_even:\n",
        "      largest_even = numbers[i]\n",
        "  i=i+1\n",
        "print(largest_even)"
      ],
      "metadata": {
        "colab": {
          "base_uri": "https://localhost:8080/"
        },
        "id": "oHciQVj1euZQ",
        "outputId": "cc41e26f-68ff-4d79-cd91-9e5fa423707d"
      },
      "execution_count": 1,
      "outputs": [
        {
          "output_type": "stream",
          "name": "stdout",
          "text": [
            "20\n"
          ]
        }
      ]
    },
    {
      "cell_type": "code",
      "source": [
        "for i in range(5, -1, -1):\n",
        "    print(i)"
      ],
      "metadata": {
        "colab": {
          "base_uri": "https://localhost:8080/"
        },
        "id": "t25LVeM3gXBB",
        "outputId": "9c298bf1-e26a-4219-db58-fbfd0c7b3a99"
      },
      "execution_count": 2,
      "outputs": [
        {
          "output_type": "stream",
          "name": "stdout",
          "text": [
            "5\n",
            "4\n",
            "3\n",
            "2\n",
            "1\n",
            "0\n"
          ]
        }
      ]
    },
    {
      "cell_type": "code",
      "source": [
        "a=eval(input())\n",
        "b=eval(input())\n",
        "\n",
        "if not (isinstance(a, int) and isinstance(b, int)):\n",
        "  print('inputs should be intergers')\n",
        "else:\n",
        "  print(a+b)"
      ],
      "metadata": {
        "colab": {
          "base_uri": "https://localhost:8080/"
        },
        "id": "33Yi175Lp4eR",
        "outputId": "e80025ac-792b-4fa4-d6d6-b8059b21d11f"
      },
      "execution_count": 8,
      "outputs": [
        {
          "output_type": "stream",
          "name": "stdout",
          "text": [
            "20\n",
            "30\n",
            "50\n"
          ]
        }
      ]
    },
    {
      "cell_type": "code",
      "source": [
        "def add_numbers(a, b):\n",
        "   if not (isinstance(a, int) and isinstance(b, int)):\n",
        "       return \"Inputs must be integers!\"\n",
        "   return a+b\n",
        "a= eval(input())\n",
        "b= eval(input())\n",
        "print(add_numbers(a,b))"
      ],
      "metadata": {
        "colab": {
          "base_uri": "https://localhost:8080/"
        },
        "id": "-lm0PhN7Cv-Z",
        "outputId": "a78b76e8-20cb-4ecd-c4d6-52ff88b99c68"
      },
      "execution_count": 22,
      "outputs": [
        {
          "output_type": "stream",
          "name": "stdout",
          "text": [
            "20\n",
            "30\n",
            "50\n"
          ]
        }
      ]
    }
  ]
}